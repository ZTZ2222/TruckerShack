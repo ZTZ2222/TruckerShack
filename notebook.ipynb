{
 "cells": [
  {
   "cell_type": "code",
   "execution_count": 1,
   "metadata": {},
   "outputs": [],
   "source": [
    "import pandas as pd\n",
    "import os\n",
    "from datetime import datetime\n",
    "from dispatch_bot import nearest_coordinates"
   ]
  },
  {
   "cell_type": "code",
   "execution_count": 1,
   "metadata": {},
   "outputs": [],
   "source": [
    "\n",
    "\n",
    "cur_day = datetime.now().strftime('%m_%d_%Y')\n",
    "columns = ['Vehicle Type', 'Pickup City', 'Pickup State', 'Pickup ZIP', 'Delivery City', 'Delivery State', 'Delivery ZIP', 'Rate', 'Payment Method', 'Distance', 'Veh_qty', 'Vehicle Info', 'Vehicle Condition', 'Trailer Type', 'Pick-Up Date', 'Order ID', 'Additional Info', 'Company Name', 'Phone', 'Email', 'Rating', 'Pickup metro area', 'Delivery metro area', 'P_lat', 'P_lon', 'D_lat', 'D_lon']\n",
    "file_path = 'csv_data/csv_hourly'\n",
    "file_list = os.listdir(file_path)\n",
    "df = pd.concat([pd.read_csv(f\"csv_data/csv_hourly/{f}\") for f in file_list], ignore_index=True)\n",
    "df1 = df.sort_values('Time').drop_duplicates(subset=columns, keep='first')\n",
    "df2 = df.sort_values('Time').drop_duplicates(subset=columns, keep='last')\n",
    "df = df1.merge(df2, on=columns, suffixes=('_first', '_last'))\n",
    "df.to_csv(f'csv_data/csv_daily/{cur_day}.csv', index=False)\n",
    "for f in file_list:\n",
    "    path_to_file = os.path.join(file_path, f)\n",
    "    os.remove(path_to_file)"
   ]
  },
  {
   "cell_type": "code",
   "execution_count": 2,
   "metadata": {},
   "outputs": [],
   "source": [
    "canada = ['AB','BC','MB','NB','NL','NS','ON','PE','QC','SK','Ca']\n",
    "df_l = pd.read_csv('csv_data/live.csv').drop_duplicates(subset=['Pickup City', 'Vehicle Info', 'Delivery City']).drop_duplicates(subset=['Pickup City', 'Vehicle Info', 'Company Name']).drop_duplicates(subset=['Company Name', 'Vehicle Info', 'Delivery City']).reset_index(drop=True)\n",
    "df = df_l.query('`Pickup State` not in @canada and `Delivery State` not in @canada').copy()\n",
    "df = df[df['Distance'] > 0]\n",
    "df['RPM'] = round(df['Rate']/df['Distance'], 2)\n",
    "df = df[~df['Vehicle Info'].str.contains(r'[4-9]\\sunit|1[0-5]\\sunit', regex=True)]\n",
    "df1 = df.query('`Vehicle Type` in [\"MOTORCYCLE\", \"ATV\"] and RPM >= 0.4 and Rate >= 300').copy()\n",
    "df2 = df.query('`Vehicle Type` in [\"CAR\", \"SUV\", \"PICKUP\"] and RPM >= 1 and Rate >= 450').copy()\n",
    "truck = (34.052235, -118.243683)\n",
    "df_n = await nearest_coordinates(df1, truck, n_neighbors=15)\n",
    "df_n2 = await nearest_coordinates(df2, truck, n_neighbors=25)\n",
    "# df_fine = await find_veh_db3(df_n, df_n, df_n2, truck, filter_by=1.65)\n"
   ]
  },
  {
   "cell_type": "code",
   "execution_count": 5,
   "metadata": {},
   "outputs": [
    {
     "data": {
      "text/html": [
       "<div>\n",
       "<style scoped>\n",
       "    .dataframe tbody tr th:only-of-type {\n",
       "        vertical-align: middle;\n",
       "    }\n",
       "\n",
       "    .dataframe tbody tr th {\n",
       "        vertical-align: top;\n",
       "    }\n",
       "\n",
       "    .dataframe thead th {\n",
       "        text-align: right;\n",
       "    }\n",
       "</style>\n",
       "<table border=\"1\" class=\"dataframe\">\n",
       "  <thead>\n",
       "    <tr style=\"text-align: right;\">\n",
       "      <th></th>\n",
       "      <th>Vehicle Type</th>\n",
       "      <th>Pickup City</th>\n",
       "      <th>Pickup State</th>\n",
       "      <th>Pickup ZIP</th>\n",
       "      <th>Delivery City</th>\n",
       "      <th>Delivery State</th>\n",
       "      <th>Delivery ZIP</th>\n",
       "      <th>Rate</th>\n",
       "      <th>Payment Method</th>\n",
       "      <th>Distance</th>\n",
       "      <th>...</th>\n",
       "      <th>Phone</th>\n",
       "      <th>Email</th>\n",
       "      <th>Rating</th>\n",
       "      <th>Pickup metro area</th>\n",
       "      <th>Delivery metro area</th>\n",
       "      <th>P_lat</th>\n",
       "      <th>P_lon</th>\n",
       "      <th>D_lat</th>\n",
       "      <th>D_lon</th>\n",
       "      <th>Time</th>\n",
       "    </tr>\n",
       "  </thead>\n",
       "  <tbody>\n",
       "  </tbody>\n",
       "</table>\n",
       "<p>0 rows × 28 columns</p>\n",
       "</div>"
      ],
      "text/plain": [
       "Empty DataFrame\n",
       "Columns: [Vehicle Type, Pickup City, Pickup State, Pickup ZIP, Delivery City, Delivery State, Delivery ZIP, Rate, Payment Method, Distance, Veh_qty, Vehicle Info, Vehicle Condition, Trailer Type, Pick-Up Date, Order ID, Additional Info, Company Name, Phone, Email, Rating, Pickup metro area, Delivery metro area, P_lat, P_lon, D_lat, D_lon, Time]\n",
       "Index: []\n",
       "\n",
       "[0 rows x 28 columns]"
      ]
     },
     "execution_count": 5,
     "metadata": {},
     "output_type": "execute_result"
    }
   ],
   "source": [
    "df_l = pd.read_csv('csv_data/live.csv')\n",
    "df1 = df_l.query('`Vehicle Type` == \"MOTO\"').copy()\n",
    "df1"
   ]
  },
  {
   "cell_type": "code",
   "execution_count": 38,
   "metadata": {},
   "outputs": [
    {
     "data": {
      "text/plain": [
       "141"
      ]
     },
     "execution_count": 38,
     "metadata": {},
     "output_type": "execute_result"
    }
   ],
   "source": [
    "file_path = 'csv_data/csv_hourly'\n",
    "file_list = os.listdir(file_path)\n",
    "len(file_list)"
   ]
  }
 ],
 "metadata": {
  "kernelspec": {
   "display_name": ".venv",
   "language": "python",
   "name": "python3"
  },
  "language_info": {
   "codemirror_mode": {
    "name": "ipython",
    "version": 3
   },
   "file_extension": ".py",
   "mimetype": "text/x-python",
   "name": "python",
   "nbconvert_exporter": "python",
   "pygments_lexer": "ipython3",
   "version": "3.10.6"
  },
  "orig_nbformat": 4,
  "vscode": {
   "interpreter": {
    "hash": "653b0ed056b4a9254793e8eda9922f69f7e2e5cb22deb2a75a9cf928a209987f"
   }
  }
 },
 "nbformat": 4,
 "nbformat_minor": 2
}
