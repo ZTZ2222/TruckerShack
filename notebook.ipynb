{
 "cells": [
  {
   "cell_type": "code",
   "execution_count": 42,
   "metadata": {},
   "outputs": [],
   "source": [
    "import pandas as pd\n",
    "import os\n",
    "from datetime import datetime\n",
    "\n",
    "cur_day = datetime.now().strftime('%m_%d_%Y')\n",
    "columns = ['Vehicle Type', 'Pickup City', 'Pickup State', 'Pickup ZIP', 'Delivery City', 'Delivery State', 'Delivery ZIP', 'Rate', 'Payment Method', 'Distance', 'Veh_qty', 'Vehicle Info', 'Vehicle Condition', 'Trailer Type', 'Pick-Up Date', 'Order ID', 'Additional Info', 'Company Name', 'Phone', 'Email', 'Rating', 'Pickup metro area', 'Delivery metro area', 'P_lat', 'P_lon', 'D_lat', 'D_lon']\n",
    "file_path = 'csv_data/csv_hourly'\n",
    "file_list = os.listdir(file_path)\n",
    "df = pd.concat([pd.read_csv(f\"csv_data/csv_hourly/{f}\") for f in file_list], ignore_index=True)\n",
    "df1 = df.sort_values('Time').drop_duplicates(subset=columns, keep='first')\n",
    "df2 = df.sort_values('Time').drop_duplicates(subset=columns, keep='last')\n",
    "df = df1.merge(df2, on=columns, suffixes=('_first', '_last'))\n",
    "df.to_csv(f'csv_data/csv_daily/{cur_day}.csv', index=False)\n",
    "for f in file_list:\n",
    "    path_to_file = os.path.join(file_path, f)\n",
    "    os.remove(path_to_file)"
   ]
  },
  {
   "cell_type": "code",
   "execution_count": 33,
   "metadata": {},
   "outputs": [],
   "source": [
    "import pandas as pd\n",
    "from dispatch_bot import nearest_coordinates\n",
    "\n",
    "canada = ['AB','BC','MB','NB','NL','NS','ON','PE','QC','SK','Ca']\n",
    "df_l = pd.read_csv('csv_data/live.csv').drop_duplicates(subset=['Pickup City', 'Vehicle Info', 'Delivery City']).drop_duplicates(subset=['Pickup City', 'Vehicle Info', 'Company Name']).drop_duplicates(subset=['Company Name', 'Vehicle Info', 'Delivery City']).reset_index(drop=True)\n",
    "df = df_l.query('`Pickup State` not in @canada and `Delivery State` not in @canada').copy()\n",
    "df = df[df['Distance'] > 0]\n",
    "df['RPM'] = round(df['Rate']/df['Distance'], 2)\n",
    "df = df[~df['Vehicle Info'].str.contains(r'[4-9]\\sunit|1[0-5]\\sunit', regex=True)]\n",
    "df1 = df.query('`Vehicle Type` in [\"MOTORCYCLE\", \"ATV\"] and RPM >= 0.4 and Rate >= 300').copy()\n",
    "df2 = df.query('`Vehicle Type` in [\"CAR\", \"SUV\", \"PICKUP\"] and RPM >= 1 and Rate >= 450').copy()\n",
    "truck = (34.052235, -118.243683)\n",
    "df_n = await nearest_coordinates(df1, truck, n_neighbors=15)\n",
    "df_n2 = await nearest_coordinates(df2, truck, n_neighbors=25)\n",
    "# df_fine = await find_veh_db3(df_n, df_n, df_n2, truck, filter_by=1.65)\n"
   ]
  },
  {
   "cell_type": "code",
   "execution_count": 41,
   "metadata": {},
   "outputs": [
    {
     "name": "stdout",
     "output_type": "stream",
     "text": [
      "(1, 2, 3)\n",
      "(1, 3, 2)\n",
      "(2, 1, 3)\n",
      "(2, 3, 1)\n",
      "(3, 1, 2)\n",
      "(3, 2, 1)\n"
     ]
    }
   ],
   "source": [
    "import itertools\n",
    "\n",
    "ff = ['a', 'b', 'c', 'd']\n",
    "nn = [1, 2, 3]\n",
    "\n",
    "result = list(itertools.permutations(nn))\n",
    "# for i,j,k in result:\n",
    "#     print((i,j,k))\n",
    "for i in result:\n",
    "    # if i<j:\n",
    "        print(i)"
   ]
  }
 ],
 "metadata": {
  "kernelspec": {
   "display_name": ".venv",
   "language": "python",
   "name": "python3"
  },
  "language_info": {
   "codemirror_mode": {
    "name": "ipython",
    "version": 3
   },
   "file_extension": ".py",
   "mimetype": "text/x-python",
   "name": "python",
   "nbconvert_exporter": "python",
   "pygments_lexer": "ipython3",
   "version": "3.10.6"
  },
  "orig_nbformat": 4,
  "vscode": {
   "interpreter": {
    "hash": "653b0ed056b4a9254793e8eda9922f69f7e2e5cb22deb2a75a9cf928a209987f"
   }
  }
 },
 "nbformat": 4,
 "nbformat_minor": 2
}
